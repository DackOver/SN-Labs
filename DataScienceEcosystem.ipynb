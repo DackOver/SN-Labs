{
  "metadata": {
    "kernelspec": {
      "name": "python",
      "display_name": "Python (Pyodide)",
      "language": "python"
    },
    "language_info": {
      "codemirror_mode": {
        "name": "python",
        "version": 3
      },
      "file_extension": ".py",
      "mimetype": "text/x-python",
      "name": "python",
      "nbconvert_exporter": "python",
      "pygments_lexer": "ipython3",
      "version": "3.8"
    }
  },
  "nbformat_minor": 4,
  "nbformat": 4,
  "cells": [
    {
      "cell_type": "markdown",
      "source": "# H1: Data Science Tools and Ecosystem",
      "metadata": {}
    },
    {
      "cell_type": "markdown",
      "source": "# H1: Data Science Tools and Ecosystem",
      "metadata": {}
    },
    {
      "cell_type": "markdown",
      "source": "In this notebook, Data Science Tools and Ecosystem are summarized.",
      "metadata": {}
    },
    {
      "cell_type": "markdown",
      "source": "In this notebook, Data Science Tools and Ecosystem are summarized.",
      "metadata": {}
    },
    {
      "cell_type": "markdown",
      "source": "# Objectives\n- SQL\n- Python\n- Golang\n- R",
      "metadata": {}
    },
    {
      "cell_type": "markdown",
      "source": "# Objectives\n- SQL\n- Python\n- Golang\n- R",
      "metadata": {}
    },
    {
      "cell_type": "markdown",
      "source": "1. SQL\n2. Golang\n3. Python",
      "metadata": {}
    },
    {
      "cell_type": "markdown",
      "source": "1. SQL\n2. Golang\n3. Python",
      "metadata": {}
    },
    {
      "cell_type": "code",
      "source": "1. Pandas\n2. ggplot\n3. Keras\n4. TensorFLOW\n5. Scikit-learn",
      "metadata": {
        "trusted": true
      },
      "outputs": [],
      "execution_count": null
    },
    {
      "cell_type": "markdown",
      "source": "1. Pandas\n2. ggplot\n3. Keras\n4. TensorFLOW\n5. Scikit-learn",
      "metadata": {}
    },
    {
      "cell_type": "markdown",
      "source": "Data Science Tools\n|-----------------|\nR studio\nvisual studio code\nJuppyterlab",
      "metadata": {}
    },
    {
      "cell_type": "markdown",
      "source": "Data Science Tools\n|-----------------|\nR studio\nvisual studio code\nJuppyterlab",
      "metadata": {}
    },
    {
      "cell_type": "markdown",
      "source": "### Below are a few examples of evaluating arithmetic expressions in Python",
      "metadata": {}
    },
    {
      "cell_type": "markdown",
      "source": "### Below are a few examples of evaluating arithmetic expressions in Python",
      "metadata": {}
    },
    {
      "cell_type": "code",
      "source": "#This a simple arithmetic expression to mutiply then add integers.\nprint((3*4)+5)",
      "metadata": {
        "trusted": true
      },
      "outputs": [
        {
          "name": "stdout",
          "text": "17\n",
          "output_type": "stream"
        }
      ],
      "execution_count": 2
    },
    {
      "cell_type": "code",
      "source": "#This will convert 200 minutes to hours by diving by 60.\nprint(200/60)",
      "metadata": {
        "trusted": true
      },
      "outputs": [
        {
          "name": "stdout",
          "text": "3.3333333333333335\n",
          "output_type": "stream"
        }
      ],
      "execution_count": 3
    },
    {
      "cell_type": "markdown",
      "source": "## Author\nNguyen Trong Thu",
      "metadata": {}
    },
    {
      "cell_type": "markdown",
      "source": "## Author\nNguyen Trong Thu",
      "metadata": {}
    },
    {
      "cell_type": "code",
      "source": "",
      "metadata": {
        "trusted": true
      },
      "outputs": [],
      "execution_count": null
    }
  ]
}